{
 "cells": [
  {
   "cell_type": "markdown",
   "id": "43d7b467",
   "metadata": {},
   "source": [
    "## Reading a File"
   ]
  },
  {
   "cell_type": "code",
   "execution_count": 34,
   "id": "be6b39e4",
   "metadata": {},
   "outputs": [],
   "source": [
    "file = open(\"hello.txt\" , \"r\")"
   ]
  },
  {
   "cell_type": "code",
   "execution_count": 23,
   "id": "b488911c",
   "metadata": {},
   "outputs": [
    {
     "data": {
      "text/plain": [
       "'Hello'"
      ]
     },
     "execution_count": 23,
     "metadata": {},
     "output_type": "execute_result"
    }
   ],
   "source": [
    "file.read(5)"
   ]
  },
  {
   "cell_type": "code",
   "execution_count": 32,
   "id": "e3a2cd4e",
   "metadata": {},
   "outputs": [
    {
     "data": {
      "text/plain": [
       "'Hello yet Again!'"
      ]
     },
     "execution_count": 32,
     "metadata": {},
     "output_type": "execute_result"
    }
   ],
   "source": [
    "file.readline()"
   ]
  },
  {
   "cell_type": "code",
   "execution_count": 35,
   "id": "f08c139a",
   "metadata": {},
   "outputs": [
    {
     "data": {
      "text/plain": [
       "['Hello World!!\\n', 'Hello Again!\\n', 'Hello yet Again!']"
      ]
     },
     "execution_count": 35,
     "metadata": {},
     "output_type": "execute_result"
    }
   ],
   "source": [
    "file.readlines()"
   ]
  },
  {
   "cell_type": "code",
   "execution_count": 36,
   "id": "5250eea9",
   "metadata": {},
   "outputs": [],
   "source": [
    "file.close()"
   ]
  },
  {
   "cell_type": "markdown",
   "id": "4fb3daa3",
   "metadata": {},
   "source": [
    "## Writing a File\n"
   ]
  },
  {
   "cell_type": "code",
   "execution_count": 25,
   "id": "85d275bd",
   "metadata": {},
   "outputs": [],
   "source": [
    "file = open(\"something.txt\" , \"w\")"
   ]
  },
  {
   "cell_type": "code",
   "execution_count": 26,
   "id": "6406245d",
   "metadata": {},
   "outputs": [
    {
     "data": {
      "text/plain": [
       "29"
      ]
     },
     "execution_count": 26,
     "metadata": {},
     "output_type": "execute_result"
    }
   ],
   "source": [
    "file.write('This is some random content!!')"
   ]
  },
  {
   "cell_type": "code",
   "execution_count": 27,
   "id": "478cf1b6",
   "metadata": {},
   "outputs": [],
   "source": [
    "file.close()"
   ]
  },
  {
   "cell_type": "markdown",
   "id": "a178e856",
   "metadata": {},
   "source": [
    "#### Moving the Cursor\n",
    "- **seek(n)** : takes the cursor to the nth position in the file"
   ]
  },
  {
   "cell_type": "code",
   "execution_count": 40,
   "id": "19c03503",
   "metadata": {},
   "outputs": [],
   "source": [
    "file = open(\"hello.txt\" , \"r\")"
   ]
  },
  {
   "cell_type": "code",
   "execution_count": 41,
   "id": "34dc6424",
   "metadata": {},
   "outputs": [
    {
     "data": {
      "text/plain": [
       "'Hello '"
      ]
     },
     "execution_count": 41,
     "metadata": {},
     "output_type": "execute_result"
    }
   ],
   "source": [
    "file.read(6)"
   ]
  },
  {
   "cell_type": "code",
   "execution_count": 42,
   "id": "978f6c13",
   "metadata": {},
   "outputs": [
    {
     "data": {
      "text/plain": [
       "'World!!\\nHello Again!\\nHello yet Again!'"
      ]
     },
     "execution_count": 42,
     "metadata": {},
     "output_type": "execute_result"
    }
   ],
   "source": [
    "file.read()"
   ]
  },
  {
   "cell_type": "code",
   "execution_count": 43,
   "id": "79dbe96a",
   "metadata": {},
   "outputs": [
    {
     "data": {
      "text/plain": [
       "0"
      ]
     },
     "execution_count": 43,
     "metadata": {},
     "output_type": "execute_result"
    }
   ],
   "source": [
    "file.seek(0)"
   ]
  },
  {
   "cell_type": "code",
   "execution_count": 44,
   "id": "8f4f8c47",
   "metadata": {},
   "outputs": [
    {
     "data": {
      "text/plain": [
       "'Hello World!!\\nHello Again!\\nHello yet Again!'"
      ]
     },
     "execution_count": 44,
     "metadata": {},
     "output_type": "execute_result"
    }
   ],
   "source": [
    "file.read()"
   ]
  },
  {
   "cell_type": "code",
   "execution_count": 45,
   "id": "bd351962",
   "metadata": {},
   "outputs": [],
   "source": [
    "file.close()"
   ]
  },
  {
   "cell_type": "markdown",
   "id": "002ac200",
   "metadata": {},
   "source": [
    "## With statement"
   ]
  },
  {
   "cell_type": "code",
   "execution_count": 48,
   "id": "229fc239",
   "metadata": {},
   "outputs": [
    {
     "name": "stdout",
     "output_type": "stream",
     "text": [
      "Hello World!!\n",
      "Hello Again!\n",
      "Hello yet Again!\n",
      "World!!\n",
      "Hello Again!\n",
      "Hello yet Again!\n"
     ]
    }
   ],
   "source": [
    "with open('hello.txt' , 'r') as file:\n",
    "    print(file.read())\n",
    "    file.seek(6)\n",
    "    print(file.read())"
   ]
  },
  {
   "cell_type": "markdown",
   "id": "8bcf95be",
   "metadata": {},
   "source": [
    "# Working With JSON\n"
   ]
  },
  {
   "cell_type": "code",
   "execution_count": 54,
   "id": "25a986cb",
   "metadata": {},
   "outputs": [],
   "source": [
    "import json"
   ]
  },
  {
   "cell_type": "code",
   "execution_count": 57,
   "id": "ecc4af9e",
   "metadata": {
    "scrolled": true
   },
   "outputs": [
    {
     "name": "stdout",
     "output_type": "stream",
     "text": [
      "{'name': 'priyanshu', 'age': '19', 'branch': 'ice'}\n",
      "priyanshu\n"
     ]
    }
   ],
   "source": [
    "with open('data.json' , 'r') as file:\n",
    "    d = json.load(file)\n",
    "    print(d)\n",
    "    print(d[\"name\"])"
   ]
  },
  {
   "cell_type": "code",
   "execution_count": 59,
   "id": "0844749a",
   "metadata": {},
   "outputs": [],
   "source": [
    "with open(\"data2.json\" , 'w') as file:\n",
    "    json.dump(d , file)"
   ]
  },
  {
   "cell_type": "code",
   "execution_count": null,
   "id": "77778e10",
   "metadata": {},
   "outputs": [],
   "source": []
  }
 ],
 "metadata": {
  "kernelspec": {
   "display_name": "Python 3",
   "language": "python",
   "name": "python3"
  },
  "language_info": {
   "codemirror_mode": {
    "name": "ipython",
    "version": 3
   },
   "file_extension": ".py",
   "mimetype": "text/x-python",
   "name": "python",
   "nbconvert_exporter": "python",
   "pygments_lexer": "ipython3",
   "version": "3.9.5"
  }
 },
 "nbformat": 4,
 "nbformat_minor": 5
}
