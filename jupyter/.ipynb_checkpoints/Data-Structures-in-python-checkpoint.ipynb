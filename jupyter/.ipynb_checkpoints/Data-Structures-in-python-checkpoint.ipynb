{
 "cells": [
  {
   "cell_type": "markdown",
   "id": "f7c0074c",
   "metadata": {},
   "source": [
    "## Data Structures in python"
   ]
  },
  {
   "cell_type": "markdown",
   "id": "3df5606a",
   "metadata": {},
   "source": [
    "### Strings"
   ]
  },
  {
   "cell_type": "code",
   "execution_count": 1,
   "id": "3510853d",
   "metadata": {},
   "outputs": [],
   "source": [
    "a = \"hello\""
   ]
  },
  {
   "cell_type": "code",
   "execution_count": 2,
   "id": "3c928ae8",
   "metadata": {},
   "outputs": [
    {
     "name": "stdout",
     "output_type": "stream",
     "text": [
      "hello\n"
     ]
    }
   ],
   "source": [
    "print(a)"
   ]
  },
  {
   "cell_type": "code",
   "execution_count": 4,
   "id": "79702bff",
   "metadata": {},
   "outputs": [],
   "source": [
    "a = \"\"\"\n",
    " This is a multi line \n",
    " string!\n",
    "\"\"\""
   ]
  },
  {
   "cell_type": "code",
   "execution_count": 5,
   "id": "235b97cd",
   "metadata": {},
   "outputs": [
    {
     "name": "stdout",
     "output_type": "stream",
     "text": [
      "\n",
      " This is a multi line \n",
      " string!\n",
      "\n"
     ]
    }
   ],
   "source": [
    "print(a)"
   ]
  },
  {
   "cell_type": "code",
   "execution_count": 10,
   "id": "be336a6b",
   "metadata": {},
   "outputs": [
    {
     "data": {
      "text/plain": [
       "65"
      ]
     },
     "execution_count": 10,
     "metadata": {},
     "output_type": "execute_result"
    }
   ],
   "source": [
    "ord('A') #returns the ASCII value"
   ]
  },
  {
   "cell_type": "code",
   "execution_count": 12,
   "id": "61f487fe",
   "metadata": {},
   "outputs": [
    {
     "data": {
      "text/plain": [
       "'A'"
      ]
     },
     "execution_count": 12,
     "metadata": {},
     "output_type": "execute_result"
    }
   ],
   "source": [
    "chr(65) # returns the char equivalent of ASCII value"
   ]
  },
  {
   "cell_type": "code",
   "execution_count": 1,
   "id": "385bea70",
   "metadata": {},
   "outputs": [],
   "source": [
    "#FORMAT\n",
    "a = \"priyanshu\"\n",
    "b = 3\n",
    "c = 5"
   ]
  },
  {
   "cell_type": "code",
   "execution_count": 5,
   "id": "f1139a74",
   "metadata": {},
   "outputs": [
    {
     "name": "stdout",
     "output_type": "stream",
     "text": [
      "3-priyanshu-5\n"
     ]
    }
   ],
   "source": [
    "print(\"{1}-{0}-{2}\".format(a,b,c))"
   ]
  },
  {
   "cell_type": "code",
   "execution_count": 6,
   "id": "14b2db50",
   "metadata": {},
   "outputs": [
    {
     "name": "stdout",
     "output_type": "stream",
     "text": [
      "kumar,priyanshu\n"
     ]
    }
   ],
   "source": [
    "print(\"{lastname},{firstname}\".format(firstname=\"priyanshu\" , lastname=\"kumar\"))"
   ]
  },
  {
   "cell_type": "code",
   "execution_count": 7,
   "id": "0af9bc7b",
   "metadata": {},
   "outputs": [],
   "source": [
    "Fname = \"priyanshu\"\n",
    "Lname = \"Kumar\""
   ]
  },
  {
   "cell_type": "code",
   "execution_count": 10,
   "id": "c7730929",
   "metadata": {},
   "outputs": [
    {
     "name": "stdout",
     "output_type": "stream",
     "text": [
      "Kumar,priyanshu\n"
     ]
    }
   ],
   "source": [
    "print(f\"{Lname},{Fname}\") #widely Used"
   ]
  },
  {
   "cell_type": "code",
   "execution_count": 11,
   "id": "d7b9fdf4",
   "metadata": {},
   "outputs": [],
   "source": [
    "a = \"       priyanshu              \""
   ]
  },
  {
   "cell_type": "code",
   "execution_count": 12,
   "id": "bcbbb119",
   "metadata": {},
   "outputs": [
    {
     "name": "stdout",
     "output_type": "stream",
     "text": [
      "priyanshu\n"
     ]
    }
   ],
   "source": [
    "print(a.strip())"
   ]
  },
  {
   "cell_type": "code",
   "execution_count": 13,
   "id": "711f65f5",
   "metadata": {},
   "outputs": [
    {
     "name": "stdout",
     "output_type": "stream",
     "text": [
      "1 2 3 4 5 6\n"
     ]
    }
   ],
   "source": [
    "a = input()"
   ]
  },
  {
   "cell_type": "code",
   "execution_count": 15,
   "id": "e3f017b5",
   "metadata": {},
   "outputs": [
    {
     "data": {
      "text/plain": [
       "'1 2 3 4 5 6'"
      ]
     },
     "execution_count": 15,
     "metadata": {},
     "output_type": "execute_result"
    }
   ],
   "source": [
    "a"
   ]
  },
  {
   "cell_type": "code",
   "execution_count": 16,
   "id": "46b20c96",
   "metadata": {},
   "outputs": [
    {
     "data": {
      "text/plain": [
       "['1', '2', '3', '4', '5', '6']"
      ]
     },
     "execution_count": 16,
     "metadata": {},
     "output_type": "execute_result"
    }
   ],
   "source": [
    "a.split()"
   ]
  },
  {
   "cell_type": "code",
   "execution_count": 17,
   "id": "6732ebe4",
   "metadata": {},
   "outputs": [],
   "source": [
    "a = \"aaabbbccc\""
   ]
  },
  {
   "cell_type": "code",
   "execution_count": 25,
   "id": "ee598a50",
   "metadata": {},
   "outputs": [],
   "source": [
    "b =a.replace('a','z')"
   ]
  },
  {
   "cell_type": "code",
   "execution_count": 26,
   "id": "8e1f6c6d",
   "metadata": {},
   "outputs": [
    {
     "data": {
      "text/plain": [
       "'zzzbbbccc'"
      ]
     },
     "execution_count": 26,
     "metadata": {},
     "output_type": "execute_result"
    }
   ],
   "source": [
    "b"
   ]
  },
  {
   "cell_type": "code",
   "execution_count": 27,
   "id": "cf354b2a",
   "metadata": {},
   "outputs": [
    {
     "data": {
      "text/plain": [
       "3"
      ]
     },
     "execution_count": 27,
     "metadata": {},
     "output_type": "execute_result"
    }
   ],
   "source": [
    "a.count('a')"
   ]
  },
  {
   "cell_type": "code",
   "execution_count": 28,
   "id": "db163e5b",
   "metadata": {},
   "outputs": [
    {
     "data": {
      "text/plain": [
       "1"
      ]
     },
     "execution_count": 28,
     "metadata": {},
     "output_type": "execute_result"
    }
   ],
   "source": [
    "a.count('aa')"
   ]
  },
  {
   "cell_type": "markdown",
   "id": "ebcc9c52",
   "metadata": {},
   "source": [
    "### Tuple in Python"
   ]
  },
  {
   "cell_type": "code",
   "execution_count": 1,
   "id": "91b5d2ab",
   "metadata": {},
   "outputs": [],
   "source": [
    "a = (1,2,3,4)"
   ]
  },
  {
   "cell_type": "code",
   "execution_count": null,
   "id": "b9c47859",
   "metadata": {},
   "outputs": [],
   "source": [
    "a[0] = 3 #tuple doesn't support mutation"
   ]
  },
  {
   "cell_type": "code",
   "execution_count": 5,
   "id": "38355e17",
   "metadata": {},
   "outputs": [],
   "source": [
    "b = 3\n",
    "c = 4"
   ]
  },
  {
   "cell_type": "code",
   "execution_count": 7,
   "id": "45612885",
   "metadata": {},
   "outputs": [
    {
     "name": "stdout",
     "output_type": "stream",
     "text": [
      "4 3\n"
     ]
    }
   ],
   "source": [
    "print(b,c)"
   ]
  },
  {
   "cell_type": "code",
   "execution_count": 9,
   "id": "1d4a9615",
   "metadata": {},
   "outputs": [],
   "source": [
    "b,c = c,b #SWAP using tuples "
   ]
  },
  {
   "cell_type": "code",
   "execution_count": 10,
   "id": "bc50a3f6",
   "metadata": {},
   "outputs": [
    {
     "name": "stdout",
     "output_type": "stream",
     "text": [
      "3 4\n"
     ]
    }
   ],
   "source": [
    "print(b,c)"
   ]
  },
  {
   "cell_type": "markdown",
   "id": "c222d346",
   "metadata": {},
   "source": [
    "#### List to tuple and tuple to a list..."
   ]
  },
  {
   "cell_type": "code",
   "execution_count": 11,
   "id": "732d7878",
   "metadata": {},
   "outputs": [],
   "source": [
    "b = (1,2,3)"
   ]
  },
  {
   "cell_type": "code",
   "execution_count": 14,
   "id": "7d9411d5",
   "metadata": {},
   "outputs": [],
   "source": [
    "a = list(\"priyanshu\")"
   ]
  },
  {
   "cell_type": "code",
   "execution_count": 23,
   "id": "827ccfde",
   "metadata": {},
   "outputs": [
    {
     "data": {
      "text/plain": [
       "['p', 'r', 'i', 'y', 'a', 'n', 's', 'h', 'u']"
      ]
     },
     "execution_count": 23,
     "metadata": {},
     "output_type": "execute_result"
    }
   ],
   "source": [
    "print(a)"
   ]
  },
  {
   "cell_type": "code",
   "execution_count": 19,
   "id": "e5de981e",
   "metadata": {},
   "outputs": [
    {
     "data": {
      "text/plain": [
       "list"
      ]
     },
     "execution_count": 19,
     "metadata": {},
     "output_type": "execute_result"
    }
   ],
   "source": [
    "type(a)"
   ]
  },
  {
   "cell_type": "code",
   "execution_count": 20,
   "id": "bdac97a4",
   "metadata": {},
   "outputs": [],
   "source": [
    "c = tuple(a) "
   ]
  },
  {
   "cell_type": "code",
   "execution_count": 25,
   "id": "cde7a727",
   "metadata": {},
   "outputs": [
    {
     "name": "stdout",
     "output_type": "stream",
     "text": [
      "('p', 'r', 'i', 'y', 'a', 'n', 's', 'h', 'u')\n"
     ]
    }
   ],
   "source": [
    "print(c)"
   ]
  },
  {
   "cell_type": "code",
   "execution_count": 26,
   "id": "2e5a1d38",
   "metadata": {},
   "outputs": [
    {
     "data": {
      "text/plain": [
       "tuple"
      ]
     },
     "execution_count": 26,
     "metadata": {},
     "output_type": "execute_result"
    }
   ],
   "source": [
    "type(c)"
   ]
  },
  {
   "cell_type": "markdown",
   "id": "52ff0881",
   "metadata": {},
   "source": [
    "### Returning multiple values from functions(The returned thing is a tuple!)"
   ]
  },
  {
   "cell_type": "code",
   "execution_count": 28,
   "id": "e6355d3b",
   "metadata": {},
   "outputs": [],
   "source": [
    "def addSubtract(a,b):\n",
    "    return a+b , a-b"
   ]
  },
  {
   "cell_type": "code",
   "execution_count": 30,
   "id": "b3dd5974",
   "metadata": {},
   "outputs": [],
   "source": [
    "c , d = addSubtract(9,3)"
   ]
  },
  {
   "cell_type": "code",
   "execution_count": 31,
   "id": "ad6f6d82",
   "metadata": {},
   "outputs": [
    {
     "name": "stdout",
     "output_type": "stream",
     "text": [
      "12\n"
     ]
    }
   ],
   "source": [
    "print(c)"
   ]
  },
  {
   "cell_type": "code",
   "execution_count": 32,
   "id": "2ca3c581",
   "metadata": {},
   "outputs": [
    {
     "name": "stdout",
     "output_type": "stream",
     "text": [
      "6\n"
     ]
    }
   ],
   "source": [
    "print(d)"
   ]
  },
  {
   "cell_type": "markdown",
   "id": "87ca7bdf",
   "metadata": {},
   "source": [
    "### Dictionary in Python"
   ]
  },
  {
   "cell_type": "code",
   "execution_count": 47,
   "id": "7b4a5851",
   "metadata": {},
   "outputs": [],
   "source": [
    "a = {\n",
    "    \"name\" : \"priyanshu\",\n",
    "    \"age\" : 19,\n",
    "    \"subjects\": [\"eng\" , \"match\"],\n",
    "    \"friends\" : {\n",
    "        \"akash\" : \"CP\",\n",
    "        \"JD\" : \"stratup\",\n",
    "    }\n",
    "}"
   ]
  },
  {
   "cell_type": "code",
   "execution_count": 48,
   "id": "d6897c89",
   "metadata": {},
   "outputs": [
    {
     "data": {
      "text/plain": [
       "{'name': 'priyanshu',\n",
       " 'age': 19,\n",
       " 'subjects': ['eng', 'match'],\n",
       " 'friends': {'akash': 'CP', 'JD': 'stratup'}}"
      ]
     },
     "execution_count": 48,
     "metadata": {},
     "output_type": "execute_result"
    }
   ],
   "source": [
    "a "
   ]
  },
  {
   "cell_type": "code",
   "execution_count": 49,
   "id": "2a8eccbf",
   "metadata": {},
   "outputs": [
    {
     "data": {
      "text/plain": [
       "['eng', 'match']"
      ]
     },
     "execution_count": 49,
     "metadata": {},
     "output_type": "execute_result"
    }
   ],
   "source": [
    "a[\"subjects\"]"
   ]
  },
  {
   "cell_type": "code",
   "execution_count": 50,
   "id": "0b00eb6f",
   "metadata": {},
   "outputs": [
    {
     "name": "stdout",
     "output_type": "stream",
     "text": [
      "name\n",
      "age\n",
      "subjects\n",
      "friends\n"
     ]
    }
   ],
   "source": [
    "for key in a:\n",
    "    print(key)"
   ]
  },
  {
   "cell_type": "markdown",
   "id": "b6263ca5",
   "metadata": {},
   "source": [
    "### Some important dict methods\n",
    "\n",
    "- get()\n",
    "- items()\n",
    "- keys()\n",
    "- values()\n",
    "- clear()"
   ]
  },
  {
   "cell_type": "code",
   "execution_count": 51,
   "id": "1bde30a2",
   "metadata": {},
   "outputs": [
    {
     "name": "stdout",
     "output_type": "stream",
     "text": [
      "('name', 'priyanshu')\n",
      "('age', 19)\n",
      "('subjects', ['eng', 'match'])\n",
      "('friends', {'akash': 'CP', 'JD': 'stratup'})\n"
     ]
    }
   ],
   "source": [
    "for item in a.items():\n",
    "    print(item)"
   ]
  },
  {
   "cell_type": "code",
   "execution_count": 52,
   "id": "9f56176b",
   "metadata": {},
   "outputs": [
    {
     "name": "stdout",
     "output_type": "stream",
     "text": [
      "name => priyanshu\n",
      "age => 19\n",
      "subjects => ['eng', 'match']\n",
      "friends => {'akash': 'CP', 'JD': 'stratup'}\n"
     ]
    }
   ],
   "source": [
    "for key,value in a.items():\n",
    "    print(key , \"=>\" , value)"
   ]
  },
  {
   "cell_type": "code",
   "execution_count": 53,
   "id": "d89d3243",
   "metadata": {},
   "outputs": [],
   "source": [
    "a.get(\"name112\")"
   ]
  },
  {
   "cell_type": "code",
   "execution_count": 54,
   "id": "45c51936",
   "metadata": {},
   "outputs": [],
   "source": [
    "a.clear()"
   ]
  },
  {
   "cell_type": "code",
   "execution_count": 55,
   "id": "bb3fbf34",
   "metadata": {},
   "outputs": [
    {
     "data": {
      "text/plain": [
       "{}"
      ]
     },
     "execution_count": 55,
     "metadata": {},
     "output_type": "execute_result"
    }
   ],
   "source": [
    "a"
   ]
  },
  {
   "cell_type": "markdown",
   "id": "0e038a40",
   "metadata": {},
   "source": [
    "#### practice using dictionaries"
   ]
  },
  {
   "cell_type": "code",
   "execution_count": 56,
   "id": "0d6f2c08",
   "metadata": {},
   "outputs": [],
   "source": [
    "students = []"
   ]
  },
  {
   "cell_type": "code",
   "execution_count": 57,
   "id": "c78dabe5",
   "metadata": {},
   "outputs": [
    {
     "name": "stdout",
     "output_type": "stream",
     "text": [
      "2\n"
     ]
    }
   ],
   "source": [
    "n = int(input())"
   ]
  },
  {
   "cell_type": "code",
   "execution_count": 60,
   "id": "c432a878",
   "metadata": {
    "scrolled": true
   },
   "outputs": [
    {
     "name": "stdout",
     "output_type": "stream",
     "text": [
      "1\n",
      "priyanshu\n",
      "ICE\n",
      "2\n",
      "no one\n",
      "ICE\n"
     ]
    }
   ],
   "source": [
    "for i in range(n):\n",
    "    roll = int(input())\n",
    "    name = input()\n",
    "    branch = input()\n",
    "    students.append({\n",
    "        \"roll-no\" : roll,\n",
    "        \"name\" : name,\n",
    "        \"branch\" : branch\n",
    "    })"
   ]
  },
  {
   "cell_type": "code",
   "execution_count": 62,
   "id": "1ef387a9",
   "metadata": {},
   "outputs": [
    {
     "name": "stdout",
     "output_type": "stream",
     "text": [
      "[{'roll-no': 1, 'name': 'priyanshu', 'branch': 'ICE'}, {'roll-no': 2, 'name': 'no one', 'branch': 'ICE'}]\n"
     ]
    }
   ],
   "source": [
    "print(students)"
   ]
  },
  {
   "cell_type": "markdown",
   "id": "fe47be85",
   "metadata": {},
   "source": [
    "##### Keys in the dictionary can be ANY immutable DS"
   ]
  },
  {
   "cell_type": "code",
   "execution_count": 64,
   "id": "8d4cbbb4",
   "metadata": {},
   "outputs": [],
   "source": [
    "a = {\n",
    "    (1,2) : \"name\"\n",
    "}"
   ]
  },
  {
   "cell_type": "code",
   "execution_count": 68,
   "id": "370ee3bc",
   "metadata": {},
   "outputs": [
    {
     "data": {
      "text/plain": [
       "'name'"
      ]
     },
     "execution_count": 68,
     "metadata": {},
     "output_type": "execute_result"
    }
   ],
   "source": [
    "a[(1,2)]"
   ]
  },
  {
   "cell_type": "code",
   "execution_count": null,
   "id": "0e50932e",
   "metadata": {},
   "outputs": [],
   "source": []
  }
 ],
 "metadata": {
  "kernelspec": {
   "display_name": "Python 3",
   "language": "python",
   "name": "python3"
  },
  "language_info": {
   "codemirror_mode": {
    "name": "ipython",
    "version": 3
   },
   "file_extension": ".py",
   "mimetype": "text/x-python",
   "name": "python",
   "nbconvert_exporter": "python",
   "pygments_lexer": "ipython3",
   "version": "3.9.5"
  }
 },
 "nbformat": 4,
 "nbformat_minor": 5
}
