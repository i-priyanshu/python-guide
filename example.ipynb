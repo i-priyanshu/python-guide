{
 "cells": [
  {
   "cell_type": "markdown",
   "id": "ed3dd2b1",
   "metadata": {},
   "source": [
    "## Functions"
   ]
  },
  {
   "cell_type": "code",
   "execution_count": 3,
   "id": "df549da9",
   "metadata": {},
   "outputs": [],
   "source": [
    "def sheldon_knock():\n",
    "    print(\"knock knock knock pr2\")\n",
    "    print(\"knock knock knock pr2\")    \n",
    "    print(\"knock knock knock pr2\")"
   ]
  },
  {
   "cell_type": "code",
   "execution_count": 4,
   "id": "23a5b5b9",
   "metadata": {},
   "outputs": [
    {
     "name": "stdout",
     "output_type": "stream",
     "text": [
      "knock knock knock pr2\n",
      "knock knock knock pr2\n",
      "knock knock knock pr2\n"
     ]
    }
   ],
   "source": [
    "sheldon_knock()"
   ]
  },
  {
   "cell_type": "code",
   "execution_count": 9,
   "id": "72a3d7a3",
   "metadata": {},
   "outputs": [],
   "source": [
    "def sheldon_knock(name , num_of_times = 3):\n",
    "    for i in range(num_of_times):\n",
    "        print(\"knock knock knock {}\".format(name))"
   ]
  },
  {
   "cell_type": "code",
   "execution_count": 11,
   "id": "d10b7c8d",
   "metadata": {},
   "outputs": [
    {
     "name": "stdout",
     "output_type": "stream",
     "text": [
      "knock knock knock pr2\n",
      "knock knock knock pr2\n",
      "knock knock knock pr2\n",
      "knock knock knock pr2\n",
      "knock knock knock pr2\n"
     ]
    }
   ],
   "source": [
    "sheldon_knock(\"pr2\" , 5)"
   ]
  },
  {
   "cell_type": "code",
   "execution_count": 15,
   "id": "bb4cecee",
   "metadata": {},
   "outputs": [],
   "source": [
    "def add(a ,b):\n",
    "    return a+b"
   ]
  },
  {
   "cell_type": "code",
   "execution_count": 13,
   "id": "67d248ad",
   "metadata": {},
   "outputs": [],
   "source": [
    "x = add(3,4)"
   ]
  },
  {
   "cell_type": "code",
   "execution_count": 14,
   "id": "b29b55b6",
   "metadata": {},
   "outputs": [
    {
     "name": "stdout",
     "output_type": "stream",
     "text": [
      "7\n"
     ]
    }
   ],
   "source": [
    "print(x)"
   ]
  },
  {
   "cell_type": "code",
   "execution_count": 16,
   "id": "7ce50f0b",
   "metadata": {},
   "outputs": [],
   "source": [
    "def div(a , b):\n",
    "    try:\n",
    "        return a/b\n",
    "    except:\n",
    "        print('Error')\n",
    "    finally:\n",
    "        print('wrapping up!')"
   ]
  },
  {
   "cell_type": "code",
   "execution_count": 20,
   "id": "58e6b647",
   "metadata": {},
   "outputs": [
    {
     "name": "stdout",
     "output_type": "stream",
     "text": [
      "wrapping up!\n"
     ]
    },
    {
     "data": {
      "text/plain": [
       "2.5"
      ]
     },
     "execution_count": 20,
     "metadata": {},
     "output_type": "execute_result"
    }
   ],
   "source": [
    "div(10 , 4)"
   ]
  },
  {
   "cell_type": "markdown",
   "id": "539050cb",
   "metadata": {},
   "source": [
    "## Local and global Variable"
   ]
  },
  {
   "cell_type": "code",
   "execution_count": 21,
   "id": "1004043e",
   "metadata": {},
   "outputs": [],
   "source": [
    "x = 10\n",
    "def show():\n",
    "    y = \"local\"\n",
    "    print(x)\n",
    "    print(y)"
   ]
  },
  {
   "cell_type": "code",
   "execution_count": 24,
   "id": "414075fe",
   "metadata": {},
   "outputs": [
    {
     "name": "stdout",
     "output_type": "stream",
     "text": [
      "10\n",
      "local\n"
     ]
    }
   ],
   "source": [
    "show()\n",
    "# print(y)"
   ]
  },
  {
   "cell_type": "code",
   "execution_count": 25,
   "id": "aa2a0d1e",
   "metadata": {},
   "outputs": [],
   "source": [
    "# enclosures\n",
    "def outer():\n",
    "    x = 10\n",
    "    \n",
    "    def inner():\n",
    "        nonlocal x\n",
    "        x +=5\n",
    "        print(x)\n",
    "    inner()\n",
    "    print(x)"
   ]
  },
  {
   "cell_type": "code",
   "execution_count": 26,
   "id": "b341e201",
   "metadata": {},
   "outputs": [
    {
     "name": "stdout",
     "output_type": "stream",
     "text": [
      "15\n",
      "15\n"
     ]
    }
   ],
   "source": [
    "outer()"
   ]
  },
  {
   "cell_type": "markdown",
   "id": "fbf3253a",
   "metadata": {},
   "source": [
    "### Default Argument Value"
   ]
  },
  {
   "cell_type": "code",
   "execution_count": 28,
   "id": "ff0ed708",
   "metadata": {},
   "outputs": [],
   "source": [
    "def show(a ,b , c):\n",
    "    print(a)\n",
    "    print(b)\n",
    "    print(c)"
   ]
  },
  {
   "cell_type": "code",
   "execution_count": 30,
   "id": "25b9e646",
   "metadata": {},
   "outputs": [
    {
     "name": "stdout",
     "output_type": "stream",
     "text": [
      "pr2\n",
      "hello \n",
      "world\n"
     ]
    }
   ],
   "source": [
    "show(b = \"hello \" , c = \"world\" , a = \"pr2\") "
   ]
  },
  {
   "cell_type": "code",
   "execution_count": 33,
   "id": "10e6b9da",
   "metadata": {},
   "outputs": [],
   "source": [
    "#PACKED ARGUMENTS\n",
    "def display(*args):\n",
    "    print(args)"
   ]
  },
  {
   "cell_type": "code",
   "execution_count": 34,
   "id": "741156f6",
   "metadata": {},
   "outputs": [
    {
     "name": "stdout",
     "output_type": "stream",
     "text": [
      "(1, 2, 4, 'priyanshu')\n"
     ]
    }
   ],
   "source": [
    "display(1,2,4 , \"priyanshu\")"
   ]
  },
  {
   "cell_type": "code",
   "execution_count": 42,
   "id": "dbab28e9",
   "metadata": {},
   "outputs": [],
   "source": [
    "def show(a, b, c, *args, d=10, e=20, **kwargs):\n",
    "    print(a , b,c)\n",
    "    print(args)\n",
    "    print(d ,e)\n",
    "    print(kwargs)"
   ]
  },
  {
   "cell_type": "code",
   "execution_count": 43,
   "id": "a4e701f9",
   "metadata": {},
   "outputs": [
    {
     "name": "stdout",
     "output_type": "stream",
     "text": [
      "1 2 3\n",
      "('priyanshu', 'kumar')\n",
      "100 20\n",
      "{'name': 'itsaname'}\n"
     ]
    }
   ],
   "source": [
    "show(1,2,3,\"priyanshu\" , \"kumar\" , d =100 , name = \"itsaname\")"
   ]
  },
  {
   "cell_type": "markdown",
   "id": "723e01b8",
   "metadata": {},
   "source": [
    "## Lambda Functions"
   ]
  },
  {
   "cell_type": "code",
   "execution_count": 44,
   "id": "a42be2cc",
   "metadata": {},
   "outputs": [],
   "source": [
    "add = lambda a , b : a+b"
   ]
  },
  {
   "cell_type": "code",
   "execution_count": 45,
   "id": "f881e898",
   "metadata": {},
   "outputs": [
    {
     "data": {
      "text/plain": [
       "5"
      ]
     },
     "execution_count": 45,
     "metadata": {},
     "output_type": "execute_result"
    }
   ],
   "source": [
    "add(3,2)"
   ]
  },
  {
   "cell_type": "markdown",
   "id": "77807c5f",
   "metadata": {},
   "source": [
    "## Decorators in Python"
   ]
  },
  {
   "cell_type": "code",
   "execution_count": 56,
   "id": "0cfd27ec",
   "metadata": {},
   "outputs": [],
   "source": [
    "users = {\n",
    "    \"user\" : \"password\",\n",
    "    \"asd\" : \"asd\"\n",
    "}"
   ]
  },
  {
   "cell_type": "code",
   "execution_count": 57,
   "id": "b9616739",
   "metadata": {},
   "outputs": [],
   "source": [
    "def show(username , password):\n",
    "    if username in users and users[username] == password:\n",
    "        print(\"Welcome User!\")\n",
    "    else:\n",
    "        print(\"Not Authenticated\")"
   ]
  },
  {
   "cell_type": "code",
   "execution_count": 58,
   "id": "e79b9be7",
   "metadata": {},
   "outputs": [
    {
     "name": "stdout",
     "output_type": "stream",
     "text": [
      "Welcome User!\n"
     ]
    }
   ],
   "source": [
    "show(\"asd\" , \"asd\")"
   ]
  },
  {
   "cell_type": "code",
   "execution_count": 59,
   "id": "b6bf35fa",
   "metadata": {},
   "outputs": [],
   "source": [
    "def login_required(func):\n",
    "    def wrapper(username , password , *args , **kwargs):\n",
    "        if username in users and users[username] == password:\n",
    "            #user is authenticated\n",
    "            func(*args , **kwargs)\n",
    "        else:\n",
    "            print(\"Not Authenticated\")\n",
    "    \n",
    "    return wrapper"
   ]
  },
  {
   "cell_type": "code",
   "execution_count": 84,
   "id": "48ecf2f5",
   "metadata": {},
   "outputs": [],
   "source": [
    "#Decorators\n",
    "@login_required\n",
    "def add(a, b):\n",
    "    print(a+b)"
   ]
  },
  {
   "cell_type": "code",
   "execution_count": 85,
   "id": "be6f3b2d",
   "metadata": {},
   "outputs": [],
   "source": [
    "# protected_add = login_required(add)"
   ]
  },
  {
   "cell_type": "code",
   "execution_count": 86,
   "id": "4add82c5",
   "metadata": {},
   "outputs": [],
   "source": [
    "# protected_add(\"asd\" , \"asd\" ,2 ,4)"
   ]
  },
  {
   "cell_type": "code",
   "execution_count": 87,
   "id": "c114b47d",
   "metadata": {},
   "outputs": [
    {
     "name": "stdout",
     "output_type": "stream",
     "text": [
      "7\n"
     ]
    }
   ],
   "source": [
    "add(\"asd\", \"asd\",3,4)"
   ]
  },
  {
   "cell_type": "code",
   "execution_count": null,
   "id": "960443e2",
   "metadata": {},
   "outputs": [],
   "source": []
  },
  {
   "cell_type": "code",
   "execution_count": null,
   "id": "f5df05ad",
   "metadata": {},
   "outputs": [],
   "source": []
  }
 ],
 "metadata": {
  "kernelspec": {
   "display_name": "Python 3",
   "language": "python",
   "name": "python3"
  },
  "language_info": {
   "codemirror_mode": {
    "name": "ipython",
    "version": 3
   },
   "file_extension": ".py",
   "mimetype": "text/x-python",
   "name": "python",
   "nbconvert_exporter": "python",
   "pygments_lexer": "ipython3",
   "version": "3.9.5"
  }
 },
 "nbformat": 4,
 "nbformat_minor": 5
}
