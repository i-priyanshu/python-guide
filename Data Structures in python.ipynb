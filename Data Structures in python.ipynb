{
 "cells": [
  {
   "cell_type": "markdown",
   "id": "f7c0074c",
   "metadata": {},
   "source": [
    "## Data Structures in python"
   ]
  },
  {
   "cell_type": "markdown",
   "id": "3df5606a",
   "metadata": {},
   "source": [
    "#### Strings"
   ]
  },
  {
   "cell_type": "code",
   "execution_count": 1,
   "id": "3510853d",
   "metadata": {},
   "outputs": [],
   "source": [
    "a = \"hello\""
   ]
  },
  {
   "cell_type": "code",
   "execution_count": 2,
   "id": "3c928ae8",
   "metadata": {},
   "outputs": [
    {
     "name": "stdout",
     "output_type": "stream",
     "text": [
      "hello\n"
     ]
    }
   ],
   "source": [
    "print(a)"
   ]
  },
  {
   "cell_type": "code",
   "execution_count": 4,
   "id": "79702bff",
   "metadata": {},
   "outputs": [],
   "source": [
    "a = \"\"\"\n",
    " This is a multi line \n",
    " string!\n",
    "\"\"\""
   ]
  },
  {
   "cell_type": "code",
   "execution_count": 5,
   "id": "235b97cd",
   "metadata": {},
   "outputs": [
    {
     "name": "stdout",
     "output_type": "stream",
     "text": [
      "\n",
      " This is a multi line \n",
      " string!\n",
      "\n"
     ]
    }
   ],
   "source": [
    "print(a)"
   ]
  },
  {
   "cell_type": "code",
   "execution_count": 10,
   "id": "be336a6b",
   "metadata": {},
   "outputs": [
    {
     "data": {
      "text/plain": [
       "65"
      ]
     },
     "execution_count": 10,
     "metadata": {},
     "output_type": "execute_result"
    }
   ],
   "source": [
    "ord('A') #returns the ASCII value"
   ]
  },
  {
   "cell_type": "code",
   "execution_count": 12,
   "id": "61f487fe",
   "metadata": {},
   "outputs": [
    {
     "data": {
      "text/plain": [
       "'A'"
      ]
     },
     "execution_count": 12,
     "metadata": {},
     "output_type": "execute_result"
    }
   ],
   "source": [
    "chr(65) # returns the char equivalent of ASCII value"
   ]
  },
  {
   "cell_type": "code",
   "execution_count": 1,
   "id": "385bea70",
   "metadata": {},
   "outputs": [],
   "source": [
    "#FORMAT\n",
    "a = \"priyanshu\"\n",
    "b = 3\n",
    "c = 5"
   ]
  },
  {
   "cell_type": "code",
   "execution_count": 5,
   "id": "f1139a74",
   "metadata": {},
   "outputs": [
    {
     "name": "stdout",
     "output_type": "stream",
     "text": [
      "3-priyanshu-5\n"
     ]
    }
   ],
   "source": [
    "print(\"{1}-{0}-{2}\".format(a,b,c))"
   ]
  },
  {
   "cell_type": "code",
   "execution_count": 6,
   "id": "14b2db50",
   "metadata": {},
   "outputs": [
    {
     "name": "stdout",
     "output_type": "stream",
     "text": [
      "kumar,priyanshu\n"
     ]
    }
   ],
   "source": [
    "print(\"{lastname},{firstname}\".format(firstname=\"priyanshu\" , lastname=\"kumar\"))"
   ]
  },
  {
   "cell_type": "code",
   "execution_count": 7,
   "id": "0af9bc7b",
   "metadata": {},
   "outputs": [],
   "source": [
    "Fname = \"priyanshu\"\n",
    "Lname = \"Kumar\""
   ]
  },
  {
   "cell_type": "code",
   "execution_count": 10,
   "id": "c7730929",
   "metadata": {},
   "outputs": [
    {
     "name": "stdout",
     "output_type": "stream",
     "text": [
      "Kumar,priyanshu\n"
     ]
    }
   ],
   "source": [
    "print(f\"{Lname},{Fname}\") #widely Used"
   ]
  },
  {
   "cell_type": "code",
   "execution_count": 11,
   "id": "d7b9fdf4",
   "metadata": {},
   "outputs": [],
   "source": [
    "a = \"       priyanshu              \""
   ]
  },
  {
   "cell_type": "code",
   "execution_count": 12,
   "id": "bcbbb119",
   "metadata": {},
   "outputs": [
    {
     "name": "stdout",
     "output_type": "stream",
     "text": [
      "priyanshu\n"
     ]
    }
   ],
   "source": [
    "print(a.strip())"
   ]
  },
  {
   "cell_type": "code",
   "execution_count": 13,
   "id": "711f65f5",
   "metadata": {},
   "outputs": [
    {
     "name": "stdout",
     "output_type": "stream",
     "text": [
      "1 2 3 4 5 6\n"
     ]
    }
   ],
   "source": [
    "a = input()"
   ]
  },
  {
   "cell_type": "code",
   "execution_count": 15,
   "id": "e3f017b5",
   "metadata": {},
   "outputs": [
    {
     "data": {
      "text/plain": [
       "'1 2 3 4 5 6'"
      ]
     },
     "execution_count": 15,
     "metadata": {},
     "output_type": "execute_result"
    }
   ],
   "source": [
    "a"
   ]
  },
  {
   "cell_type": "code",
   "execution_count": 16,
   "id": "46b20c96",
   "metadata": {},
   "outputs": [
    {
     "data": {
      "text/plain": [
       "['1', '2', '3', '4', '5', '6']"
      ]
     },
     "execution_count": 16,
     "metadata": {},
     "output_type": "execute_result"
    }
   ],
   "source": [
    "a.split()"
   ]
  },
  {
   "cell_type": "code",
   "execution_count": 17,
   "id": "6732ebe4",
   "metadata": {},
   "outputs": [],
   "source": [
    "a = \"aaabbbccc\""
   ]
  },
  {
   "cell_type": "code",
   "execution_count": 25,
   "id": "ee598a50",
   "metadata": {},
   "outputs": [],
   "source": [
    "b =a.replace('a','z')"
   ]
  },
  {
   "cell_type": "code",
   "execution_count": 26,
   "id": "8e1f6c6d",
   "metadata": {},
   "outputs": [
    {
     "data": {
      "text/plain": [
       "'zzzbbbccc'"
      ]
     },
     "execution_count": 26,
     "metadata": {},
     "output_type": "execute_result"
    }
   ],
   "source": [
    "b"
   ]
  },
  {
   "cell_type": "code",
   "execution_count": 27,
   "id": "cf354b2a",
   "metadata": {},
   "outputs": [
    {
     "data": {
      "text/plain": [
       "3"
      ]
     },
     "execution_count": 27,
     "metadata": {},
     "output_type": "execute_result"
    }
   ],
   "source": [
    "a.count('a')"
   ]
  },
  {
   "cell_type": "code",
   "execution_count": 28,
   "id": "db163e5b",
   "metadata": {},
   "outputs": [
    {
     "data": {
      "text/plain": [
       "1"
      ]
     },
     "execution_count": 28,
     "metadata": {},
     "output_type": "execute_result"
    }
   ],
   "source": [
    "a.count('aa')"
   ]
  },
  {
   "cell_type": "code",
   "execution_count": null,
   "id": "32c31828",
   "metadata": {},
   "outputs": [],
   "source": []
  }
 ],
 "metadata": {
  "kernelspec": {
   "display_name": "Python 3",
   "language": "python",
   "name": "python3"
  },
  "language_info": {
   "codemirror_mode": {
    "name": "ipython",
    "version": 3
   },
   "file_extension": ".py",
   "mimetype": "text/x-python",
   "name": "python",
   "nbconvert_exporter": "python",
   "pygments_lexer": "ipython3",
   "version": "3.9.5"
  }
 },
 "nbformat": 4,
 "nbformat_minor": 5
}
