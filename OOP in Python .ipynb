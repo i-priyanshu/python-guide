{
 "cells": [
  {
   "cell_type": "markdown",
   "id": "39d3a7b5",
   "metadata": {},
   "source": [
    "## OOP in Python"
   ]
  },
  {
   "cell_type": "code",
   "execution_count": 1,
   "id": "abc83363",
   "metadata": {},
   "outputs": [
    {
     "name": "stdout",
     "output_type": "stream",
     "text": [
      "<__main__.Person object at 0x0000026A458812E0>\n"
     ]
    }
   ],
   "source": [
    "#Example\n",
    "class Person:\n",
    "    pass\n",
    "\n",
    "p = Person()\n",
    "print(p)"
   ]
  },
  {
   "cell_type": "code",
   "execution_count": 4,
   "id": "aa11c6b3",
   "metadata": {},
   "outputs": [
    {
     "name": "stdout",
     "output_type": "stream",
     "text": [
      "Hello ,how are you priyanshu?\n"
     ]
    }
   ],
   "source": [
    "class Person:\n",
    "    def say_hi(self):\n",
    "        self.name=\"priyanshu\"\n",
    "        print('Hello ,how are you ' + self.name + '?')\n",
    "\n",
    "p = Person()\n",
    "p.say_hi()"
   ]
  },
  {
   "cell_type": "code",
   "execution_count": 7,
   "id": "87490eb2",
   "metadata": {},
   "outputs": [
    {
     "name": "stdout",
     "output_type": "stream",
     "text": [
      "Hello ,how are you priyanshu?\n"
     ]
    }
   ],
   "source": [
    "class Person:\n",
    "    name=\"priyanshu\"\n",
    "    def say_hi(self):\n",
    "        print('Hello ,how are you ' + self.name + '?')\n",
    "\n",
    "p = Person()\n",
    "p.say_hi()"
   ]
  },
  {
   "cell_type": "markdown",
   "id": "9d9e1691",
   "metadata": {},
   "source": [
    "#### the init method\n",
    "\n",
    "called whenever a new object is created"
   ]
  },
  {
   "cell_type": "code",
   "execution_count": 9,
   "id": "5bf317b3",
   "metadata": {},
   "outputs": [
    {
     "name": "stdout",
     "output_type": "stream",
     "text": [
      "Hello  , How are you no one?\n"
     ]
    }
   ],
   "source": [
    "# init Method\n",
    "class Person: \n",
    "    def __init__(self, name): \n",
    "        self.name = name\n",
    "    def say_hi(self):\n",
    "        print('Hello  , How are you '+ self.name + '?')\n",
    "\n",
    "p = Person(\"no one\")\n",
    "p.say_hi()"
   ]
  },
  {
   "cell_type": "markdown",
   "id": "406563b4",
   "metadata": {},
   "source": [
    "### Dunders In Python"
   ]
  },
  {
   "cell_type": "code",
   "execution_count": 10,
   "id": "8fcb538b",
   "metadata": {},
   "outputs": [],
   "source": [
    "class Car:\n",
    "    def __init__(self , model , milage):\n",
    "        self.model = model\n",
    "        self.milage = milage\n",
    "    \n",
    "    def __str__(self):\n",
    "        return \"{} {}\".format(self.model , self.milage)\n",
    "    \n",
    "    def __repr__(self):\n",
    "        return \"{}\".format(self.model)\n",
    "    \n",
    "    def __eq__(self, other):\n",
    "        return self.milage == other.milage\n",
    "\n",
    "    def __add__(self , other):\n",
    "        return self.milage + other.milage"
   ]
  },
  {
   "cell_type": "code",
   "execution_count": 11,
   "id": "151ece3f",
   "metadata": {},
   "outputs": [],
   "source": [
    "c1 = Car('a' , 2)\n",
    "c2 = Car('b', 2)"
   ]
  },
  {
   "cell_type": "code",
   "execution_count": 12,
   "id": "94e0c04b",
   "metadata": {},
   "outputs": [
    {
     "data": {
      "text/plain": [
       "4"
      ]
     },
     "execution_count": 12,
     "metadata": {},
     "output_type": "execute_result"
    }
   ],
   "source": [
    "c1 + c2"
   ]
  },
  {
   "cell_type": "code",
   "execution_count": 13,
   "id": "c8706bcd",
   "metadata": {},
   "outputs": [
    {
     "data": {
      "text/plain": [
       "True"
      ]
     },
     "execution_count": 13,
     "metadata": {},
     "output_type": "execute_result"
    }
   ],
   "source": [
    "c1 == c2"
   ]
  },
  {
   "cell_type": "code",
   "execution_count": 14,
   "id": "f8d96486",
   "metadata": {},
   "outputs": [],
   "source": [
    "class Ostream:\n",
    "    def __lshift__(self,other):\n",
    "        print(other , end = '')\n",
    "        return self\n",
    "\n",
    "cout = Ostream()"
   ]
  },
  {
   "cell_type": "code",
   "execution_count": 16,
   "id": "a97a811e",
   "metadata": {},
   "outputs": [
    {
     "name": "stdout",
     "output_type": "stream",
     "text": [
      "hello"
     ]
    },
    {
     "data": {
      "text/plain": [
       "<__main__.Ostream at 0x26a46886ac0>"
      ]
     },
     "execution_count": 16,
     "metadata": {},
     "output_type": "execute_result"
    }
   ],
   "source": [
    "cout << \"hello\""
   ]
  },
  {
   "cell_type": "code",
   "execution_count": 18,
   "id": "d4b31a6c",
   "metadata": {},
   "outputs": [],
   "source": [
    "class Dog:\n",
    "    kind = \"canine\"            # Class variable shared by all instances\n",
    "    \n",
    "    def __init__(self,name):\n",
    "        self.name = name       # Class variable unique to each instance"
   ]
  },
  {
   "cell_type": "code",
   "execution_count": 19,
   "id": "af521938",
   "metadata": {},
   "outputs": [],
   "source": [
    "a = Dog('tuffy')"
   ]
  },
  {
   "cell_type": "code",
   "execution_count": 20,
   "id": "f2100547",
   "metadata": {},
   "outputs": [
    {
     "data": {
      "text/plain": [
       "'canine'"
      ]
     },
     "execution_count": 20,
     "metadata": {},
     "output_type": "execute_result"
    }
   ],
   "source": [
    "a.kind"
   ]
  },
  {
   "cell_type": "code",
   "execution_count": 28,
   "id": "4aab63a0",
   "metadata": {},
   "outputs": [],
   "source": [
    "b = Dog('pemarian')"
   ]
  },
  {
   "cell_type": "code",
   "execution_count": 29,
   "id": "c9207672",
   "metadata": {},
   "outputs": [],
   "source": [
    "b.kind = \"something ...\""
   ]
  },
  {
   "cell_type": "code",
   "execution_count": 30,
   "id": "1c856b16",
   "metadata": {},
   "outputs": [
    {
     "data": {
      "text/plain": [
       "'something ...'"
      ]
     },
     "execution_count": 30,
     "metadata": {},
     "output_type": "execute_result"
    }
   ],
   "source": [
    "b.kind"
   ]
  },
  {
   "cell_type": "code",
   "execution_count": 31,
   "id": "764f7890",
   "metadata": {},
   "outputs": [
    {
     "data": {
      "text/plain": [
       "'canine'"
      ]
     },
     "execution_count": 31,
     "metadata": {},
     "output_type": "execute_result"
    }
   ],
   "source": [
    "a.kind"
   ]
  },
  {
   "cell_type": "code",
   "execution_count": null,
   "id": "90505c08",
   "metadata": {},
   "outputs": [],
   "source": []
  }
 ],
 "metadata": {
  "kernelspec": {
   "display_name": "Python 3",
   "language": "python",
   "name": "python3"
  },
  "language_info": {
   "codemirror_mode": {
    "name": "ipython",
    "version": 3
   },
   "file_extension": ".py",
   "mimetype": "text/x-python",
   "name": "python",
   "nbconvert_exporter": "python",
   "pygments_lexer": "ipython3",
   "version": "3.9.5"
  }
 },
 "nbformat": 4,
 "nbformat_minor": 5
}
